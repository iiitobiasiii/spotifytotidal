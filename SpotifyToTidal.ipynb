{
 "cells": [
  {
   "cell_type": "markdown",
   "id": "2dff8087-97b1-45ce-b617-7c4d54b60a72",
   "metadata": {},
   "source": [
    "install spotipy and tidalapi via pip"
   ]
  },
  {
   "cell_type": "code",
   "execution_count": null,
   "id": "22914f61-c4d6-478e-bd52-dfb4f28c460c",
   "metadata": {},
   "outputs": [],
   "source": [
    "import spotipy\n",
    "import spotipy.util as util\n",
    "from spotipy.oauth2 import SpotifyClientCredentials\n",
    "\n",
    "import tidalapi\n",
    "\n",
    "from math import ceil"
   ]
  },
  {
   "cell_type": "markdown",
   "id": "ab89ea50-5bd5-4f75-80ef-386161b9f42e",
   "metadata": {},
   "source": [
    "create an spotify for developers account\n",
    "\n",
    "go to the dashboard and create an app. go to edit and add a redirect uri. I use http://localhost:8889/callback\n",
    "Make sure that no other process is using this localhost port. In my case 8888 was already used by jupyter\n",
    "\n",
    "We get a public and a private key called client ID and client secret here.\n",
    "\n",
    "We store them in separate txt files as well as our spotify and tidal user credentials, we could alternatively export them as environmental variables."
   ]
  },
  {
   "cell_type": "code",
   "execution_count": null,
   "id": "5bd68052-e418-4c21-832a-16dd352c2c18",
   "metadata": {},
   "outputs": [],
   "source": [
    "import os\n",
    "\n",
    "notebook_path = os.path.abspath(\"\")\n",
    "\n",
    "with open(os.path.join(notebook_path, \"clientid.txt\")) as fp:\n",
    "          client_id = fp.read()\n",
    "        \n",
    "with open(os.path.join(notebook_path, \"clientsecret.txt\")) as fp:\n",
    "          client_secret = fp.read()\n",
    "        \n",
    "with open(os.path.join(notebook_path, \"spotify_username.txt\")) as fp:\n",
    "          spotify_username = fp.read()\n",
    "        \n",
    "with open(os.path.join(notebook_path, \"spotify_password.txt\")) as fp:\n",
    "          spotify_password = fp.read()"
   ]
  },
  {
   "cell_type": "markdown",
   "id": "f35e803d-8650-40b2-b13d-8e780137085b",
   "metadata": {},
   "source": [
    "create a permanent token for accessing the user's library with our app. There are different scopes. We use the \"user-library-read\" to get the favorite songs and later on change the scope to get the playlists "
   ]
  },
  {
   "cell_type": "code",
   "execution_count": null,
   "id": "30b38426-606b-4c8e-a644-ef3fe3d5b6a3",
   "metadata": {},
   "outputs": [],
   "source": []
  },
  {
   "cell_type": "code",
   "execution_count": null,
   "id": "54e67709-9cfa-427f-81e3-84b9b0e12215",
   "metadata": {},
   "outputs": [],
   "source": [
    "scope = 'user-library-read'\n",
    "token = util.prompt_for_user_token(spotify_username,\n",
    "                           scope,\n",
    "                           client_id=client_id,\n",
    "                           client_secret=client_secret,\n",
    "                          redirect_uri='http://localhost:8889/callback')"
   ]
  },
  {
   "cell_type": "code",
   "execution_count": null,
   "id": "7f1654ac-ae52-494d-b1d4-97194712cbee",
   "metadata": {},
   "outputs": [],
   "source": [
    "sp = spotipy.Spotify(auth=token)\n"
   ]
  },
  {
   "cell_type": "markdown",
   "id": "1680b8d1-8256-418b-8db4-30a4a771d934",
   "metadata": {},
   "source": [
    "We give a maximum number of playlists and a maximum number of favorite songs that we are going to import. There is probably a more beautiful way to access this number via API ;)"
   ]
  },
  {
   "cell_type": "code",
   "execution_count": null,
   "id": "46a5a7a2-dc60-4ad6-b61f-4cb8f2c00b5b",
   "metadata": {},
   "outputs": [],
   "source": [
    "MAX_PLAYLISTS = 200\n",
    "MAX_USER_SAVED_TRACKS = 50000"
   ]
  },
  {
   "cell_type": "markdown",
   "id": "a5ffe2d5-cc62-4d2b-9c01-c309566e0d04",
   "metadata": {},
   "source": [
    "Get the favorite songs from spotify"
   ]
  },
  {
   "cell_type": "code",
   "execution_count": null,
   "id": "efa59f38-ec1e-46a3-b711-a4c411830572",
   "metadata": {},
   "outputs": [],
   "source": [
    "spotify_my_songs = []\n",
    "\n",
    "for chunk in range(ceil(MAX_USER_SAVED_TRACKS/50)):\n",
    "    \n",
    "    user_saved_tracks_resp = sp.current_user_saved_tracks(limit = 50, offset = 50*chunk)\n",
    "\n",
    "    for item in user_saved_tracks_resp['items']:\n",
    "        spotify_my_songs.append((item[\"track\"][\"name\"], item[\"track\"][\"artists\"][0][\"name\"]))\n",
    "    \n",
    "\n"
   ]
  },
  {
   "cell_type": "code",
   "execution_count": null,
   "id": "d0cc3d61-7029-4860-9389-8bb8accbce15",
   "metadata": {},
   "outputs": [],
   "source": [
    "print(\"Number of songs found in Spotify Favorites: \", len(spotify_my_songs))"
   ]
  },
  {
   "cell_type": "markdown",
   "id": "1e9be54f-db8e-4fc5-ba17-e75df6e74ec8",
   "metadata": {},
   "source": [
    "Search for each one on tidal and get its id, post the ones that are not found on tidal. We simply take the first search result as the right song."
   ]
  },
  {
   "cell_type": "code",
   "execution_count": null,
   "id": "fbf6dff5-3e62-4031-b1a4-b769f48b1610",
   "metadata": {},
   "outputs": [],
   "source": [
    "tidal_track_ids = []\n",
    "\n",
    "for my_song in spotify_my_songs:\n",
    "    tidal_search_results = session.search(my_song[0] + \" \" + my_song[1])\n",
    "    \n",
    "    if len(tidal_search_results[\"tracks\"]) == 0:\n",
    "        print(my_song[0], \" - \", my_song[1], \" not found on tidal\")\n",
    "            \n",
    "    for found_track in tidal_search_results[\"tracks\"]:\n",
    "        tidal_track_ids.append(found_track.id)\n",
    "        break"
   ]
  },
  {
   "cell_type": "markdown",
   "id": "340cd784-9ed0-4dfa-843a-90b40e176ab0",
   "metadata": {},
   "source": [
    "We need to start a tidal API Session, follow the instructions below"
   ]
  },
  {
   "cell_type": "code",
   "execution_count": null,
   "id": "028a3880-c64a-43d2-8321-19d0a0086156",
   "metadata": {},
   "outputs": [],
   "source": [
    "session = tidalapi.Session()\n",
    "\n",
    "session.login_oauth_simple()\n",
    "print(session.check_login())"
   ]
  },
  {
   "cell_type": "markdown",
   "id": "e4326f26-f21b-46c5-bf93-49a01c762ba7",
   "metadata": {},
   "source": [
    "We further need the User ID to get the favorites"
   ]
  },
  {
   "cell_type": "code",
   "execution_count": null,
   "id": "eaa8831a-8b45-40d2-8f61-09e572f2b7ee",
   "metadata": {},
   "outputs": [],
   "source": [
    "tidal_user_id = session.user.id\n",
    "favs = tidalapi.user.Favorites(session, tidal_user_id)"
   ]
  },
  {
   "cell_type": "code",
   "execution_count": null,
   "id": "e106086e-29ae-4932-9001-4208f0d19447",
   "metadata": {},
   "outputs": [],
   "source": [
    "successes = 0\n",
    "for el in tidal_track_ids:\n",
    "    try:\n",
    "        successes += favs.add_track(el)\n",
    "    except HTTPError:\n",
    "        continue"
   ]
  },
  {
   "cell_type": "code",
   "execution_count": null,
   "id": "5be86bcf-1d52-462a-91da-78f4125f6952",
   "metadata": {},
   "outputs": [],
   "source": [
    "print(successes, \"Tracks added to the favorites\")"
   ]
  },
  {
   "cell_type": "markdown",
   "id": "92f6f04a-e0d2-4992-a36b-dc75c4abf40f",
   "metadata": {},
   "source": [
    "Now import the Playlists! We create a new token for the playlist access"
   ]
  },
  {
   "cell_type": "code",
   "execution_count": null,
   "id": "e061ed3e-1360-48c2-ad5c-c9db5bccfcf3",
   "metadata": {},
   "outputs": [],
   "source": [
    "playlist_scope = 'playlist-read-private'\n",
    "token = util.prompt_for_user_token(spotify_username,\n",
    "                           playlist_scope,\n",
    "                           client_id=client_id,\n",
    "                           client_secret=client_secret,\n",
    "                          redirect_uri='http://localhost:8889/callback')\n",
    "sp = spotipy.Spotify(auth=token)"
   ]
  },
  {
   "cell_type": "markdown",
   "id": "b8976ed0-5189-4c93-b208-d341b911b366",
   "metadata": {},
   "source": [
    "Get the content of my playlists in spotify"
   ]
  },
  {
   "cell_type": "code",
   "execution_count": null,
   "id": "9acabc59-ab7b-429c-9ca0-ae93728f141a",
   "metadata": {},
   "outputs": [],
   "source": [
    "\n",
    "spotify_playlists_dicts = []\n",
    "for chunk in range(ceil(MAX_PLAYLISTS/50)):\n",
    "    sp_pl_d = sp.current_user_playlists(limit = 50, offset = 50*chunk)\n",
    "    spotify_playlists_dicts.append(sp_pl_d)\n",
    "    \n",
    "spotify_playlists_items = [el for subl in spotify_playlists_dicts for el in subl[\"items\"]]"
   ]
  },
  {
   "cell_type": "code",
   "execution_count": null,
   "id": "52de223f-f906-4944-93d9-1916b0c02a29",
   "metadata": {},
   "outputs": [],
   "source": [
    "print(f\"There are {len(spotify_playlists_items)} playlists to transfer\")"
   ]
  },
  {
   "cell_type": "markdown",
   "id": "38f1ba67-4bdf-4b6a-99b3-a37a973f62ca",
   "metadata": {},
   "source": [
    "The following code creates for each spotify playlist a tidal playlists and adds songs. We find the songs on tidal by simply searching for the artist and the track name provided by spotify and take the first search result as above for the favorite songs"
   ]
  },
  {
   "cell_type": "code",
   "execution_count": null,
   "id": "fd1e566f-b376-4188-8631-439d2c3089b5",
   "metadata": {},
   "outputs": [],
   "source": [
    "for spotify_playlist in spotify_playlists_items:\n",
    "    \n",
    "    \n",
    "    \n",
    "    # create tidal_playlist\n",
    "    tidal_playlist = session.user.create_playlist(spotify_playlist[\"name\"], f\"{spotify_playlist['name']} imported from spotify\")\n",
    "    \n",
    "    # get the tracks in the playlist \n",
    "    tracks = sp.user_playlist(spotify_username, spotify_playlist[\"id\"], fields=\"tracks,next\")\n",
    "    \n",
    "    tidal_track_ids = []\n",
    "    \n",
    "    # iterate over all tracks in the spotify playlist, search for them on tidal and get their IDs\n",
    "    for track in tracks[\"tracks\"][\"items\"]:\n",
    "        spotify_artist_name = track[\"track\"][\"artists\"][0][\"name\"]\n",
    "        spotify_track_name = track[\"track\"][\"name\"]\n",
    "        \n",
    "        # search on tidal\n",
    "        tidal_search_results = session.search(spotify_artist_name + \" \" + spotify_track_name)\n",
    "        \n",
    "        # just add the first search result!\n",
    "        \n",
    "        if len(tidal_search_results[\"tracks\"]) == 0:\n",
    "            print(spotify_artist_name, \" - \", spotify_track_name, \" not found on tidal\")\n",
    "        for found_track in tidal_search_results[\"tracks\"]:\n",
    "            tidal_track_ids.append(found_track.id)\n",
    "            break\n",
    "            \n",
    "        # There could also be a more sophisticated approach by matching artist names and track names etc.\n",
    "#             if found_track.artist.name == spotify_artist_name and found_track.name == spotify_track_name:\n",
    "#                 tidal_track_ids.append(found_track.id)\n",
    "#                 break\n",
    "#         else:\n",
    "#             print(\"no match for \", spotify_artist_name, spotify_track_name)\n",
    "    if len(tidal_track_ids) == 0:\n",
    "        print(\"!!!\", spotify_playlist[\"name\"], \" - no tracks found\")\n",
    "        continue\n",
    "    tidal_playlist.add(tidal_track_ids)\n",
    "    print(\"   \", spotify_playlist[\"name\"], \" - playlist created\")"
   ]
  },
  {
   "cell_type": "code",
   "execution_count": null,
   "id": "ae3fabf4-0dbf-4cff-96ae-cf803756e804",
   "metadata": {},
   "outputs": [],
   "source": []
  }
 ],
 "metadata": {
  "kernelspec": {
   "display_name": "aienvipy",
   "language": "python",
   "name": "aienvipy"
  },
  "language_info": {
   "codemirror_mode": {
    "name": "ipython",
    "version": 3
   },
   "file_extension": ".py",
   "mimetype": "text/x-python",
   "name": "python",
   "nbconvert_exporter": "python",
   "pygments_lexer": "ipython3",
   "version": "3.9.12"
  }
 },
 "nbformat": 4,
 "nbformat_minor": 5
}
